{
 "cells": [
  {
   "cell_type": "markdown",
   "metadata": {
    "id": "njUvbhQmC8-t"
   },
   "source": [
    "## Exercício 1: Vestibular\n",
    "\n",
    "Considere que a os dados gerados na célula abaixo contêm o número de acertos de 100 alunos em um vestibular para um curso de exatas, divididas pelos respectivos assuntos. Considere que cada assunto possui um número de questões conforme a tabela abaixo:\n",
    "\n",
    "| assunto | número de questões |\n",
    "|:---:|:---:|\n",
    "| Matemática | 24 |\n",
    "| Português | 18 |\n",
    "| Geografia | 8 |\n",
    "| Inglês | 8 |\n",
    "| História | 8 |\n",
    "| Física | 12 |\n",
    "| Química | 12 |\n",
    "\n",
    "Usando os comandos de operações com DataFrames que você aprendeu na Aula 03, calcule:\n",
    "\n",
    "1. (operações com escalar) Calcule o percentual de acerto dos alunos por assunto.  \n",
    "2. (operações entre *DataFrames) Calcule o total de acertos de cada aluno.  \n",
    "3. Calcule o porcentual geral de cada aluno.  \n",
    "4. Suponha que a nota de corte para a segunda fase seja 45. Quantos alunos tiveram nota maior que 45?  "
   ]
  },
  {
   "cell_type": "code",
   "execution_count": 1,
   "metadata": {
    "id": "Ll6TadxCC8-y"
   },
   "outputs": [],
   "source": [
    "import pandas as pd\n",
    "import numpy as np\n",
    "\n",
    "np.random.seed(42)\n",
    "df_mat = pd.DataFrame(np.random.randint(24, size=(100, 1)), columns=['Qt_acertos'])\n",
    "\n",
    "df_por = pd.DataFrame(np.random.randint(18, size=(100, 1)), columns=['Qt_acertos'])\n",
    "\n",
    "df_geo = pd.DataFrame(np.random.randint(8, size=(100, 1)), columns=['Qt_acertos'])\n",
    "\n",
    "df_ing = pd.DataFrame(np.random.randint(8, size=(100, 1)), columns=['Qt_acertos'])\n",
    "\n",
    "df_his = pd.DataFrame(np.random.randint(8, size=(100, 1)), columns=['Qt_acertos'])\n",
    "\n",
    "df_fis = pd.DataFrame(np.random.randint(12, size=(100, 1)), columns=['Qt_acertos'])\n",
    "\n",
    "df_qui = pd.DataFrame(np.random.randint(12, size=(100, 1)), columns=['Qt_acertos'])"
   ]
  },
  {
   "cell_type": "code",
   "execution_count": 2,
   "metadata": {
    "id": "JVmLXiC2C8-0"
   },
   "outputs": [],
   "source": [
    "# 1) Seu código aqui\n",
    "#Entendendo as arrays a serem trabalhadadas\n",
    "df_mat\n",
    "#Criando uma tabela com a quantidade de questões por assunto\n",
    "questDic = {\"Mat\":24, \n",
    "         \"Port\":18, \n",
    "         \"Geo\":8,\n",
    "         \"Ing\":8,\n",
    "         \"Hist\":8,\n",
    "         \"Fis\":12,\n",
    "         \"Quim\":12}\n",
    "qtdQuestoes = pd.Series(questDic)\n",
    "qtdQuestoes\n",
    "#Calculando o % de acerto de cada aluno por assunto\n",
    "acerMat = (df_mat/qtdQuestoes[\"Mat\"])*100\n",
    "acerPor = (df_por/qtdQuestoes[\"Port\"])*100\n",
    "acerGeo = (df_geo/qtdQuestoes[\"Geo\"])*100\n",
    "acerIng = (df_ing/qtdQuestoes[\"Ing\"])*100\n",
    "acerHis = (df_his/qtdQuestoes[\"Hist\"])*100\n",
    "acerFis = (df_fis/qtdQuestoes[\"Fis\"])*100\n",
    "acerQui = (df_qui/qtdQuestoes[\"Quim\"])*100"
   ]
  },
  {
   "cell_type": "code",
   "execution_count": 3,
   "metadata": {
    "id": "JbTwCyNHC8-1"
   },
   "outputs": [
    {
     "data": {
      "text/html": [
       "<div>\n",
       "<style scoped>\n",
       "    .dataframe tbody tr th:only-of-type {\n",
       "        vertical-align: middle;\n",
       "    }\n",
       "\n",
       "    .dataframe tbody tr th {\n",
       "        vertical-align: top;\n",
       "    }\n",
       "\n",
       "    .dataframe thead th {\n",
       "        text-align: right;\n",
       "    }\n",
       "</style>\n",
       "<table border=\"1\" class=\"dataframe\">\n",
       "  <thead>\n",
       "    <tr style=\"text-align: right;\">\n",
       "      <th></th>\n",
       "      <th>Qt_acertos</th>\n",
       "    </tr>\n",
       "  </thead>\n",
       "  <tbody>\n",
       "    <tr>\n",
       "      <th>0</th>\n",
       "      <td>35</td>\n",
       "    </tr>\n",
       "    <tr>\n",
       "      <th>1</th>\n",
       "      <td>48</td>\n",
       "    </tr>\n",
       "    <tr>\n",
       "      <th>2</th>\n",
       "      <td>50</td>\n",
       "    </tr>\n",
       "    <tr>\n",
       "      <th>3</th>\n",
       "      <td>32</td>\n",
       "    </tr>\n",
       "    <tr>\n",
       "      <th>4</th>\n",
       "      <td>30</td>\n",
       "    </tr>\n",
       "    <tr>\n",
       "      <th>...</th>\n",
       "      <td>...</td>\n",
       "    </tr>\n",
       "    <tr>\n",
       "      <th>95</th>\n",
       "      <td>34</td>\n",
       "    </tr>\n",
       "    <tr>\n",
       "      <th>96</th>\n",
       "      <td>27</td>\n",
       "    </tr>\n",
       "    <tr>\n",
       "      <th>97</th>\n",
       "      <td>40</td>\n",
       "    </tr>\n",
       "    <tr>\n",
       "      <th>98</th>\n",
       "      <td>40</td>\n",
       "    </tr>\n",
       "    <tr>\n",
       "      <th>99</th>\n",
       "      <td>42</td>\n",
       "    </tr>\n",
       "  </tbody>\n",
       "</table>\n",
       "<p>100 rows × 1 columns</p>\n",
       "</div>"
      ],
      "text/plain": [
       "    Qt_acertos\n",
       "0           35\n",
       "1           48\n",
       "2           50\n",
       "3           32\n",
       "4           30\n",
       "..         ...\n",
       "95          34\n",
       "96          27\n",
       "97          40\n",
       "98          40\n",
       "99          42\n",
       "\n",
       "[100 rows x 1 columns]"
      ]
     },
     "execution_count": 3,
     "metadata": {},
     "output_type": "execute_result"
    }
   ],
   "source": [
    "# 2) Seu código aqui\n",
    "totalAcerto = df_mat + df_por + df_geo + df_ing + df_his + df_fis + df_qui\n",
    "totalAcerto"
   ]
  },
  {
   "cell_type": "code",
   "execution_count": 4,
   "metadata": {
    "id": "c2L8dJkVC8-3"
   },
   "outputs": [
    {
     "data": {
      "text/html": [
       "<div>\n",
       "<style scoped>\n",
       "    .dataframe tbody tr th:only-of-type {\n",
       "        vertical-align: middle;\n",
       "    }\n",
       "\n",
       "    .dataframe tbody tr th {\n",
       "        vertical-align: top;\n",
       "    }\n",
       "\n",
       "    .dataframe thead th {\n",
       "        text-align: right;\n",
       "    }\n",
       "</style>\n",
       "<table border=\"1\" class=\"dataframe\">\n",
       "  <thead>\n",
       "    <tr style=\"text-align: right;\">\n",
       "      <th></th>\n",
       "      <th>Qt_acertos</th>\n",
       "      <th>Result</th>\n",
       "    </tr>\n",
       "  </thead>\n",
       "  <tbody>\n",
       "    <tr>\n",
       "      <th>0</th>\n",
       "      <td>35</td>\n",
       "      <td>0.388889</td>\n",
       "    </tr>\n",
       "    <tr>\n",
       "      <th>1</th>\n",
       "      <td>48</td>\n",
       "      <td>0.533333</td>\n",
       "    </tr>\n",
       "    <tr>\n",
       "      <th>2</th>\n",
       "      <td>50</td>\n",
       "      <td>0.555556</td>\n",
       "    </tr>\n",
       "    <tr>\n",
       "      <th>3</th>\n",
       "      <td>32</td>\n",
       "      <td>0.355556</td>\n",
       "    </tr>\n",
       "    <tr>\n",
       "      <th>4</th>\n",
       "      <td>30</td>\n",
       "      <td>0.333333</td>\n",
       "    </tr>\n",
       "    <tr>\n",
       "      <th>...</th>\n",
       "      <td>...</td>\n",
       "      <td>...</td>\n",
       "    </tr>\n",
       "    <tr>\n",
       "      <th>95</th>\n",
       "      <td>34</td>\n",
       "      <td>0.377778</td>\n",
       "    </tr>\n",
       "    <tr>\n",
       "      <th>96</th>\n",
       "      <td>27</td>\n",
       "      <td>0.300000</td>\n",
       "    </tr>\n",
       "    <tr>\n",
       "      <th>97</th>\n",
       "      <td>40</td>\n",
       "      <td>0.444444</td>\n",
       "    </tr>\n",
       "    <tr>\n",
       "      <th>98</th>\n",
       "      <td>40</td>\n",
       "      <td>0.444444</td>\n",
       "    </tr>\n",
       "    <tr>\n",
       "      <th>99</th>\n",
       "      <td>42</td>\n",
       "      <td>0.466667</td>\n",
       "    </tr>\n",
       "  </tbody>\n",
       "</table>\n",
       "<p>100 rows × 2 columns</p>\n",
       "</div>"
      ],
      "text/plain": [
       "    Qt_acertos    Result\n",
       "0           35  0.388889\n",
       "1           48  0.533333\n",
       "2           50  0.555556\n",
       "3           32  0.355556\n",
       "4           30  0.333333\n",
       "..         ...       ...\n",
       "95          34  0.377778\n",
       "96          27  0.300000\n",
       "97          40  0.444444\n",
       "98          40  0.444444\n",
       "99          42  0.466667\n",
       "\n",
       "[100 rows x 2 columns]"
      ]
     },
     "execution_count": 4,
     "metadata": {},
     "output_type": "execute_result"
    }
   ],
   "source": [
    "# 3) Seu código aqui\n",
    "#Quantidade total de questões\n",
    "totalQuestoes = qtdQuestoes.sum()\n",
    "resultFinal = totalAcerto/totalQuestoes\n",
    "resultFinal\n",
    "totalAcerto['Result'] = resultFinal\n",
    "totalAcerto"
   ]
  },
  {
   "cell_type": "code",
   "execution_count": 47,
   "metadata": {
    "id": "PZTZ7DFzC8-3"
   },
   "outputs": [
    {
     "name": "stdout",
     "output_type": "stream",
     "text": [
      "Tiveram a nota maior que a nota de corte, 31 alunos\n"
     ]
    }
   ],
   "source": [
    "# 4) Seu código aqui\n",
    "aprov = totalAcerto[totalAcerto['Qt_acertos']>45]\n",
    "qtdAprov = aprov['Qt_acertos'].count()\n",
    "print(f'Tiveram a nota maior que a nota de corte, {qtdAprov} alunos')"
   ]
  },
  {
   "cell_type": "markdown",
   "metadata": {
    "id": "Hlfl75XXC8-4"
   },
   "source": [
    "## 2) Vestibular II\n",
    "\n",
    "Ainda sobre o mesmo banco de dados:\n",
    "\n",
    "1. Neste vestibular, quem 'zera' em matemática, física ou química está desqualificado. Monte um novo *DataFrame* com os alunos desqualificados por este critério.\n",
    "2. Quantos são esses alunos?\n",
    "3. Qual a média desses alunos em história e geografia?\n",
    "4. Monte um *DataFrame* com os alunos que passaram para a segunda fase. Repare que estes alunos não podem ter sido desqualificados."
   ]
  },
  {
   "cell_type": "code",
   "execution_count": 6,
   "metadata": {
    "id": "hPaMGXvJC8-4"
   },
   "outputs": [
    {
     "name": "stdout",
     "output_type": "stream",
     "text": [
      "    Qt_acertos    Result\n",
      "3           32  0.355556\n",
      "6           29  0.322222\n",
      "10          31  0.344444\n",
      "12          42  0.466667\n",
      "14          31  0.344444\n",
      "20          53  0.588889\n",
      "25          27  0.300000\n",
      "26          40  0.444444\n",
      "27          50  0.555556\n",
      "33          39  0.433333\n",
      "35          48  0.533333\n",
      "49          19  0.211111\n",
      "56          39  0.433333\n",
      "65          24  0.266667\n",
      "66          31  0.344444\n",
      "72          50  0.555556\n",
      "73          37  0.411111\n",
      "74          39  0.433333\n",
      "84          26  0.288889\n",
      "89          63  0.700000\n",
      "92          40  0.444444\n",
      "94          25  0.277778\n",
      "98          40  0.444444\n",
      "Foram desclassificados 23 Alunos\n"
     ]
    }
   ],
   "source": [
    "# seu código aqui\n",
    "#Verificando a quantidade de cada uma das categorias que atendem o critério, para validar o resultado final\n",
    "#print(len(df_mat.loc[df_mat['Qt_acertos'] == 0]))\n",
    "#print(len(df_fis.loc[df_fis['Qt_acertos'] == 0]))\n",
    "#print(len(df_qui.loc[df_qui['Qt_acertos'] == 0]))\n",
    "df_eliminados = totalAcerto[(df_mat['Qt_acertos'] == 0) | \n",
    "                            (df_fis['Qt_acertos'] == 0) | \n",
    "                            (df_qui['Qt_acertos'] == 0)]\n",
    "\n",
    "print(df_eliminados)\n",
    "#Quantidade de alunos desqualificados\n",
    "qtdDesc = len(df_eliminados)\n",
    "print(f'Foram desclassificados {qtdDesc} Alunos')\n",
    "#Média dos alunos em história e geografia\n"
   ]
  },
  {
   "cell_type": "code",
   "execution_count": 7,
   "metadata": {},
   "outputs": [
    {
     "data": {
      "text/html": [
       "<div>\n",
       "<style scoped>\n",
       "    .dataframe tbody tr th:only-of-type {\n",
       "        vertical-align: middle;\n",
       "    }\n",
       "\n",
       "    .dataframe tbody tr th {\n",
       "        vertical-align: top;\n",
       "    }\n",
       "\n",
       "    .dataframe thead th {\n",
       "        text-align: right;\n",
       "    }\n",
       "</style>\n",
       "<table border=\"1\" class=\"dataframe\">\n",
       "  <thead>\n",
       "    <tr style=\"text-align: right;\">\n",
       "      <th></th>\n",
       "      <th>Qt_acertos</th>\n",
       "      <th>Result</th>\n",
       "    </tr>\n",
       "  </thead>\n",
       "  <tbody>\n",
       "    <tr>\n",
       "      <th>1</th>\n",
       "      <td>48</td>\n",
       "      <td>0.533333</td>\n",
       "    </tr>\n",
       "    <tr>\n",
       "      <th>2</th>\n",
       "      <td>50</td>\n",
       "      <td>0.555556</td>\n",
       "    </tr>\n",
       "    <tr>\n",
       "      <th>5</th>\n",
       "      <td>50</td>\n",
       "      <td>0.555556</td>\n",
       "    </tr>\n",
       "    <tr>\n",
       "      <th>7</th>\n",
       "      <td>49</td>\n",
       "      <td>0.544444</td>\n",
       "    </tr>\n",
       "    <tr>\n",
       "      <th>8</th>\n",
       "      <td>58</td>\n",
       "      <td>0.644444</td>\n",
       "    </tr>\n",
       "    <tr>\n",
       "      <th>11</th>\n",
       "      <td>43</td>\n",
       "      <td>0.477778</td>\n",
       "    </tr>\n",
       "    <tr>\n",
       "      <th>17</th>\n",
       "      <td>52</td>\n",
       "      <td>0.577778</td>\n",
       "    </tr>\n",
       "    <tr>\n",
       "      <th>18</th>\n",
       "      <td>50</td>\n",
       "      <td>0.555556</td>\n",
       "    </tr>\n",
       "    <tr>\n",
       "      <th>24</th>\n",
       "      <td>50</td>\n",
       "      <td>0.555556</td>\n",
       "    </tr>\n",
       "    <tr>\n",
       "      <th>29</th>\n",
       "      <td>44</td>\n",
       "      <td>0.488889</td>\n",
       "    </tr>\n",
       "    <tr>\n",
       "      <th>31</th>\n",
       "      <td>54</td>\n",
       "      <td>0.600000</td>\n",
       "    </tr>\n",
       "    <tr>\n",
       "      <th>34</th>\n",
       "      <td>45</td>\n",
       "      <td>0.500000</td>\n",
       "    </tr>\n",
       "    <tr>\n",
       "      <th>36</th>\n",
       "      <td>56</td>\n",
       "      <td>0.622222</td>\n",
       "    </tr>\n",
       "    <tr>\n",
       "      <th>37</th>\n",
       "      <td>52</td>\n",
       "      <td>0.577778</td>\n",
       "    </tr>\n",
       "    <tr>\n",
       "      <th>39</th>\n",
       "      <td>49</td>\n",
       "      <td>0.544444</td>\n",
       "    </tr>\n",
       "    <tr>\n",
       "      <th>40</th>\n",
       "      <td>47</td>\n",
       "      <td>0.522222</td>\n",
       "    </tr>\n",
       "    <tr>\n",
       "      <th>42</th>\n",
       "      <td>48</td>\n",
       "      <td>0.533333</td>\n",
       "    </tr>\n",
       "    <tr>\n",
       "      <th>44</th>\n",
       "      <td>43</td>\n",
       "      <td>0.477778</td>\n",
       "    </tr>\n",
       "    <tr>\n",
       "      <th>45</th>\n",
       "      <td>48</td>\n",
       "      <td>0.533333</td>\n",
       "    </tr>\n",
       "    <tr>\n",
       "      <th>48</th>\n",
       "      <td>55</td>\n",
       "      <td>0.611111</td>\n",
       "    </tr>\n",
       "    <tr>\n",
       "      <th>50</th>\n",
       "      <td>43</td>\n",
       "      <td>0.477778</td>\n",
       "    </tr>\n",
       "    <tr>\n",
       "      <th>51</th>\n",
       "      <td>42</td>\n",
       "      <td>0.466667</td>\n",
       "    </tr>\n",
       "    <tr>\n",
       "      <th>52</th>\n",
       "      <td>41</td>\n",
       "      <td>0.455556</td>\n",
       "    </tr>\n",
       "    <tr>\n",
       "      <th>53</th>\n",
       "      <td>45</td>\n",
       "      <td>0.500000</td>\n",
       "    </tr>\n",
       "    <tr>\n",
       "      <th>55</th>\n",
       "      <td>41</td>\n",
       "      <td>0.455556</td>\n",
       "    </tr>\n",
       "    <tr>\n",
       "      <th>60</th>\n",
       "      <td>48</td>\n",
       "      <td>0.533333</td>\n",
       "    </tr>\n",
       "    <tr>\n",
       "      <th>62</th>\n",
       "      <td>46</td>\n",
       "      <td>0.511111</td>\n",
       "    </tr>\n",
       "    <tr>\n",
       "      <th>67</th>\n",
       "      <td>46</td>\n",
       "      <td>0.511111</td>\n",
       "    </tr>\n",
       "    <tr>\n",
       "      <th>68</th>\n",
       "      <td>43</td>\n",
       "      <td>0.477778</td>\n",
       "    </tr>\n",
       "    <tr>\n",
       "      <th>70</th>\n",
       "      <td>62</td>\n",
       "      <td>0.688889</td>\n",
       "    </tr>\n",
       "    <tr>\n",
       "      <th>71</th>\n",
       "      <td>53</td>\n",
       "      <td>0.588889</td>\n",
       "    </tr>\n",
       "    <tr>\n",
       "      <th>75</th>\n",
       "      <td>42</td>\n",
       "      <td>0.466667</td>\n",
       "    </tr>\n",
       "    <tr>\n",
       "      <th>77</th>\n",
       "      <td>53</td>\n",
       "      <td>0.588889</td>\n",
       "    </tr>\n",
       "    <tr>\n",
       "      <th>78</th>\n",
       "      <td>66</td>\n",
       "      <td>0.733333</td>\n",
       "    </tr>\n",
       "    <tr>\n",
       "      <th>80</th>\n",
       "      <td>45</td>\n",
       "      <td>0.500000</td>\n",
       "    </tr>\n",
       "    <tr>\n",
       "      <th>81</th>\n",
       "      <td>55</td>\n",
       "      <td>0.611111</td>\n",
       "    </tr>\n",
       "    <tr>\n",
       "      <th>82</th>\n",
       "      <td>43</td>\n",
       "      <td>0.477778</td>\n",
       "    </tr>\n",
       "    <tr>\n",
       "      <th>83</th>\n",
       "      <td>42</td>\n",
       "      <td>0.466667</td>\n",
       "    </tr>\n",
       "    <tr>\n",
       "      <th>88</th>\n",
       "      <td>50</td>\n",
       "      <td>0.555556</td>\n",
       "    </tr>\n",
       "    <tr>\n",
       "      <th>93</th>\n",
       "      <td>56</td>\n",
       "      <td>0.622222</td>\n",
       "    </tr>\n",
       "    <tr>\n",
       "      <th>99</th>\n",
       "      <td>42</td>\n",
       "      <td>0.466667</td>\n",
       "    </tr>\n",
       "  </tbody>\n",
       "</table>\n",
       "</div>"
      ],
      "text/plain": [
       "    Qt_acertos    Result\n",
       "1           48  0.533333\n",
       "2           50  0.555556\n",
       "5           50  0.555556\n",
       "7           49  0.544444\n",
       "8           58  0.644444\n",
       "11          43  0.477778\n",
       "17          52  0.577778\n",
       "18          50  0.555556\n",
       "24          50  0.555556\n",
       "29          44  0.488889\n",
       "31          54  0.600000\n",
       "34          45  0.500000\n",
       "36          56  0.622222\n",
       "37          52  0.577778\n",
       "39          49  0.544444\n",
       "40          47  0.522222\n",
       "42          48  0.533333\n",
       "44          43  0.477778\n",
       "45          48  0.533333\n",
       "48          55  0.611111\n",
       "50          43  0.477778\n",
       "51          42  0.466667\n",
       "52          41  0.455556\n",
       "53          45  0.500000\n",
       "55          41  0.455556\n",
       "60          48  0.533333\n",
       "62          46  0.511111\n",
       "67          46  0.511111\n",
       "68          43  0.477778\n",
       "70          62  0.688889\n",
       "71          53  0.588889\n",
       "75          42  0.466667\n",
       "77          53  0.588889\n",
       "78          66  0.733333\n",
       "80          45  0.500000\n",
       "81          55  0.611111\n",
       "82          43  0.477778\n",
       "83          42  0.466667\n",
       "88          50  0.555556\n",
       "93          56  0.622222\n",
       "99          42  0.466667"
      ]
     },
     "execution_count": 7,
     "metadata": {},
     "output_type": "execute_result"
    }
   ],
   "source": [
    "#Criando o DF dos candidatos que passaram para a segunda fase\n",
    "df_aprovados = totalAcerto[(totalAcerto['Result'] >= notaCorte) &\n",
    "                           (df_mat['Qt_acertos'] != 0) & \n",
    "                           (df_fis['Qt_acertos'] != 0) &\n",
    "                           (df_qui['Qt_acertos'] != 0)]\n",
    "df_aprovados\n",
    "\n"
   ]
  },
  {
   "cell_type": "markdown",
   "metadata": {
    "id": "EGBUWpAHC8-5"
   },
   "source": [
    "## 3) Vacinações no Acre\n",
    "Vamos trabalhar agora com a base de vacinações no Acre. Para facilitar a sua vida, copiamos o link do arquivo na célula abaixo.\n",
    "\n",
    "1. Quantas vacinas estão registradas nessa base?  \n",
    "2. Quantos pacientes foram vacinados? (considere um paciente para cada valor único de ```paciente_id```)  \n",
    "3. Quantos pacientes únicos tomaram a primeira dose? OBS: Há um caractere especial neste campo. Receba os valores do campo com o método ```.unique()```.   \n",
    "4. Quantos pacientes com menos de 18 anos foram vacinados?  \n",
    "5. Quantos estabelecimentos aplicaram vacina no Acre?\n",
    "\n",
    "\n",
    "**OBS:** O portal do DATASUS pode apresentar instabilidades, retornando um erro na segunda célula abaixo. Por este motivo está disponível uma base estática, que se for baixada para o seu *working directory* pode ser lida com este comando: ```df = pd.read_csv('registros de vacinacao covid ACRE.csv', sep=';')```.\n",
    "\n",
    "**OBS2:** Para saber qual é o seu working directory, rode no jupyter: ```!pwd```."
   ]
  },
  {
   "cell_type": "code",
   "execution_count": 8,
   "metadata": {
    "id": "ET4r139hC8-5"
   },
   "outputs": [],
   "source": [
    "arquivo = 'https://s3.sa-east-1.amazonaws.com/ckan.saude.gov.br/SIPNI/COVID/uf/uf%3DAC/part-00000-5ed92752-6121-474f-ab37-816918134afc.c000.csv'"
   ]
  },
  {
   "cell_type": "code",
   "execution_count": 9,
   "metadata": {
    "id": "SC9YMWLSC8-6"
   },
   "outputs": [
    {
     "name": "stdout",
     "output_type": "stream",
     "text": [
      "Foram registradas 169071 vacinas nesta base\n"
     ]
    }
   ],
   "source": [
    "# 1) Sua solução aqui\n",
    "base = pd.read_csv(\"reg_vac_ACRE.csv\", sep=\";\")\n",
    "#Extraindo a quantidade de linhas da base\n",
    "linhas , colunas = base.shape\n",
    "print(f'Foram registradas {linhas} vacinas nesta base')"
   ]
  },
  {
   "cell_type": "code",
   "execution_count": 10,
   "metadata": {},
   "outputs": [
    {
     "data": {
      "text/plain": [
       "Index(['document_id', 'paciente_id', 'paciente_idade',\n",
       "       'paciente_datanascimento', 'paciente_enumsexobiologico',\n",
       "       'paciente_racacor_codigo', 'paciente_racacor_valor',\n",
       "       'paciente_endereco_coibgemunicipio', 'paciente_endereco_copais',\n",
       "       'paciente_endereco_nmmunicipio', 'paciente_endereco_nmpais',\n",
       "       'paciente_endereco_uf', 'paciente_endereco_cep',\n",
       "       'paciente_nacionalidade_enumnacionalidade', 'estabelecimento_valor',\n",
       "       'estabelecimento_razaosocial', 'estalecimento_nofantasia',\n",
       "       'estabelecimento_municipio_codigo', 'estabelecimento_municipio_nome',\n",
       "       'estabelecimento_uf', 'vacina_grupoatendimento_codigo',\n",
       "       'vacina_grupoatendimento_nome', 'vacina_categoria_codigo',\n",
       "       'vacina_categoria_nome', 'vacina_lote', 'vacina_fabricante_nome',\n",
       "       'vacina_fabricante_referencia', 'vacina_dataaplicacao',\n",
       "       'vacina_descricao_dose', 'vacina_codigo', 'vacina_nome',\n",
       "       'sistema_origem', 'data_importacao_rnds', 'id_sistema_origem'],\n",
       "      dtype='object')"
      ]
     },
     "execution_count": 10,
     "metadata": {},
     "output_type": "execute_result"
    }
   ],
   "source": [
    "base.columns"
   ]
  },
  {
   "cell_type": "code",
   "execution_count": 11,
   "metadata": {
    "id": "PMztY1RlC8-7"
   },
   "outputs": [
    {
     "name": "stdout",
     "output_type": "stream",
     "text": [
      "Foram vacinados 120517 pacientes\n"
     ]
    }
   ],
   "source": [
    "# 2)\n",
    "#Verificando a quantidade de registros unicos com referencia na coluna paciente_id\n",
    "qtdVacinados = base['paciente_id'].nunique()\n",
    "print(f'Foram vacinados {qtdVacinados} pacientes')"
   ]
  },
  {
   "cell_type": "code",
   "execution_count": 12,
   "metadata": {},
   "outputs": [
    {
     "data": {
      "text/html": [
       "<div>\n",
       "<style scoped>\n",
       "    .dataframe tbody tr th:only-of-type {\n",
       "        vertical-align: middle;\n",
       "    }\n",
       "\n",
       "    .dataframe tbody tr th {\n",
       "        vertical-align: top;\n",
       "    }\n",
       "\n",
       "    .dataframe thead th {\n",
       "        text-align: right;\n",
       "    }\n",
       "</style>\n",
       "<table border=\"1\" class=\"dataframe\">\n",
       "  <thead>\n",
       "    <tr style=\"text-align: right;\">\n",
       "      <th></th>\n",
       "      <th>document_id</th>\n",
       "      <th>paciente_id</th>\n",
       "      <th>paciente_idade</th>\n",
       "      <th>paciente_datanascimento</th>\n",
       "      <th>paciente_enumsexobiologico</th>\n",
       "      <th>paciente_racacor_codigo</th>\n",
       "      <th>paciente_racacor_valor</th>\n",
       "      <th>paciente_endereco_coibgemunicipio</th>\n",
       "      <th>paciente_endereco_copais</th>\n",
       "      <th>paciente_endereco_nmmunicipio</th>\n",
       "      <th>...</th>\n",
       "      <th>vacina_lote</th>\n",
       "      <th>vacina_fabricante_nome</th>\n",
       "      <th>vacina_fabricante_referencia</th>\n",
       "      <th>vacina_dataaplicacao</th>\n",
       "      <th>vacina_descricao_dose</th>\n",
       "      <th>vacina_codigo</th>\n",
       "      <th>vacina_nome</th>\n",
       "      <th>sistema_origem</th>\n",
       "      <th>data_importacao_rnds</th>\n",
       "      <th>id_sistema_origem</th>\n",
       "    </tr>\n",
       "  </thead>\n",
       "  <tbody>\n",
       "    <tr>\n",
       "      <th>0</th>\n",
       "      <td>b19cd280-474c-4c22-a35d-8c06bc04a4e0-i0b0</td>\n",
       "      <td>2e091c9a37d3f50d1d705fc80c6448c6fc69b44da9e936...</td>\n",
       "      <td>69</td>\n",
       "      <td>1951-12-28</td>\n",
       "      <td>F</td>\n",
       "      <td>3</td>\n",
       "      <td>PARDA</td>\n",
       "      <td>120050.0</td>\n",
       "      <td>10.0</td>\n",
       "      <td>SENA MADUREIRA</td>\n",
       "      <td>...</td>\n",
       "      <td>210052A</td>\n",
       "      <td>FUNDACAO BUTANTAN</td>\n",
       "      <td>Organization/61189445000156</td>\n",
       "      <td>2021-03-23</td>\n",
       "      <td>1ª Dose</td>\n",
       "      <td>86</td>\n",
       "      <td>Covid-19-Coronavac-Sinovac/Butantan</td>\n",
       "      <td>Novo PNI</td>\n",
       "      <td>2021-03-25T03:27:19.000Z</td>\n",
       "      <td>NaN</td>\n",
       "    </tr>\n",
       "    <tr>\n",
       "      <th>1</th>\n",
       "      <td>a1acc0b6-1cf6-4c4b-adcb-06b473a0faaf-i0b0</td>\n",
       "      <td>f4e17a9e5354cb45e223d85eda02fb2f76048c801675f5...</td>\n",
       "      <td>81</td>\n",
       "      <td>1939-11-22</td>\n",
       "      <td>M</td>\n",
       "      <td>3</td>\n",
       "      <td>PARDA</td>\n",
       "      <td>120040.0</td>\n",
       "      <td>10.0</td>\n",
       "      <td>RIO BRANCO</td>\n",
       "      <td>...</td>\n",
       "      <td>210110</td>\n",
       "      <td>FUNDACAO BUTANTAN</td>\n",
       "      <td>Organization/61189445000156</td>\n",
       "      <td>2021-04-29</td>\n",
       "      <td>2ª Dose</td>\n",
       "      <td>86</td>\n",
       "      <td>Covid-19-Coronavac-Sinovac/Butantan</td>\n",
       "      <td>Novo PNI</td>\n",
       "      <td>2021-04-30T16:03:14.000Z</td>\n",
       "      <td>NaN</td>\n",
       "    </tr>\n",
       "    <tr>\n",
       "      <th>2</th>\n",
       "      <td>af279a98-ba1f-47ea-8214-314a98040b0d-i0b0</td>\n",
       "      <td>6734b26bccf826130ebffa66575977bbe71477b12bcf42...</td>\n",
       "      <td>69</td>\n",
       "      <td>1951-08-14</td>\n",
       "      <td>M</td>\n",
       "      <td>4</td>\n",
       "      <td>AMARELA</td>\n",
       "      <td>120020.0</td>\n",
       "      <td>10.0</td>\n",
       "      <td>CRUZEIRO DO SUL</td>\n",
       "      <td>...</td>\n",
       "      <td>210135</td>\n",
       "      <td>FUNDACAO BUTANTAN</td>\n",
       "      <td>Organization/61189445000156</td>\n",
       "      <td>2021-04-16</td>\n",
       "      <td>1ª Dose</td>\n",
       "      <td>86</td>\n",
       "      <td>Covid-19-Coronavac-Sinovac/Butantan</td>\n",
       "      <td>Novo PNI</td>\n",
       "      <td>2021-04-16T15:54:39.000Z</td>\n",
       "      <td>NaN</td>\n",
       "    </tr>\n",
       "  </tbody>\n",
       "</table>\n",
       "<p>3 rows × 34 columns</p>\n",
       "</div>"
      ],
      "text/plain": [
       "                                 document_id  \\\n",
       "0  b19cd280-474c-4c22-a35d-8c06bc04a4e0-i0b0   \n",
       "1  a1acc0b6-1cf6-4c4b-adcb-06b473a0faaf-i0b0   \n",
       "2  af279a98-ba1f-47ea-8214-314a98040b0d-i0b0   \n",
       "\n",
       "                                         paciente_id  paciente_idade  \\\n",
       "0  2e091c9a37d3f50d1d705fc80c6448c6fc69b44da9e936...              69   \n",
       "1  f4e17a9e5354cb45e223d85eda02fb2f76048c801675f5...              81   \n",
       "2  6734b26bccf826130ebffa66575977bbe71477b12bcf42...              69   \n",
       "\n",
       "  paciente_datanascimento paciente_enumsexobiologico  paciente_racacor_codigo  \\\n",
       "0              1951-12-28                          F                        3   \n",
       "1              1939-11-22                          M                        3   \n",
       "2              1951-08-14                          M                        4   \n",
       "\n",
       "  paciente_racacor_valor  paciente_endereco_coibgemunicipio  \\\n",
       "0                  PARDA                           120050.0   \n",
       "1                  PARDA                           120040.0   \n",
       "2                AMARELA                           120020.0   \n",
       "\n",
       "   paciente_endereco_copais paciente_endereco_nmmunicipio  ... vacina_lote  \\\n",
       "0                      10.0                SENA MADUREIRA  ...     210052A   \n",
       "1                      10.0                    RIO BRANCO  ...      210110   \n",
       "2                      10.0               CRUZEIRO DO SUL  ...      210135   \n",
       "\n",
       "  vacina_fabricante_nome  vacina_fabricante_referencia vacina_dataaplicacao  \\\n",
       "0      FUNDACAO BUTANTAN   Organization/61189445000156           2021-03-23   \n",
       "1      FUNDACAO BUTANTAN   Organization/61189445000156           2021-04-29   \n",
       "2      FUNDACAO BUTANTAN   Organization/61189445000156           2021-04-16   \n",
       "\n",
       "   vacina_descricao_dose vacina_codigo                          vacina_nome  \\\n",
       "0                1ª Dose            86  Covid-19-Coronavac-Sinovac/Butantan   \n",
       "1                2ª Dose            86  Covid-19-Coronavac-Sinovac/Butantan   \n",
       "2                1ª Dose            86  Covid-19-Coronavac-Sinovac/Butantan   \n",
       "\n",
       "   sistema_origem      data_importacao_rnds id_sistema_origem  \n",
       "0        Novo PNI  2021-03-25T03:27:19.000Z               NaN  \n",
       "1        Novo PNI  2021-04-30T16:03:14.000Z               NaN  \n",
       "2        Novo PNI  2021-04-16T15:54:39.000Z               NaN  \n",
       "\n",
       "[3 rows x 34 columns]"
      ]
     },
     "execution_count": 12,
     "metadata": {},
     "output_type": "execute_result"
    }
   ],
   "source": [
    "base.head(3)"
   ]
  },
  {
   "cell_type": "code",
   "execution_count": 21,
   "metadata": {
    "id": "V_wr--3JC8-7"
   },
   "outputs": [
    {
     "name": "stdout",
     "output_type": "stream",
     "text": [
      "['1ªDose' '2ªDose' 'Dose']\n"
     ]
    },
    {
     "data": {
      "text/plain": [
       "119713"
      ]
     },
     "execution_count": 21,
     "metadata": {},
     "output_type": "execute_result"
    }
   ],
   "source": [
    "# 3)\n",
    "#Verificando quais os valores possiveis na coluna vacina_descricao_dose\n",
    "doses = base['vacina_descricao_dose'].unique()\n",
    "print(doses)\n",
    "pri_dose = base.loc[base['vacina_descricao_dose'] == '1ªDose']\n",
    "pri_dose['paciente_id'].nunique()\n"
   ]
  },
  {
   "cell_type": "code",
   "execution_count": 29,
   "metadata": {},
   "outputs": [
    {
     "name": "stdout",
     "output_type": "stream",
     "text": [
      "Doses disponíveis: ['1ªDose' '2ªDose' 'Dose']\n",
      "Número de pacientes que receberam a 1ª dose: 119713\n"
     ]
    }
   ],
   "source": [
    "#3) Solução Alternativa\n",
    "# Obter todas as doses únicas\n",
    "doses_unicas = base['vacina_descricao_dose'].unique()\n",
    "\n",
    "# Exibir todas as doses únicas\n",
    "print(\"Doses disponíveis:\", doses_unicas)\n",
    "\n",
    "# Filtrar dados para pacientes que receberam a 1ª dose\n",
    "primeira_dose = base[base['vacina_descricao_dose'] == '1ªDose']\n",
    "\n",
    "# Contar o número de pacientes únicos que receberam a 1ª dose\n",
    "num_pacientes_primeira_dose = primeira_dose['paciente_id'].nunique()\n",
    "\n",
    "# Exibir o número de pacientes únicos\n",
    "print(\"Número de pacientes que receberam a 1ª dose:\", num_pacientes_primeira_dose)"
   ]
  },
  {
   "cell_type": "code",
   "execution_count": 15,
   "metadata": {
    "id": "S6ab9ExEC8-7"
   },
   "outputs": [
    {
     "name": "stdout",
     "output_type": "stream",
     "text": [
      "foram vacinados 47 pacientes menores que 18 anos\n"
     ]
    }
   ],
   "source": [
    "# 4)\n",
    "menor18 = base.loc[base['paciente_idade']<18]\n",
    "qtd = menor18['paciente_id'].nunique()\n",
    "print(f'foram vacinados {qtd} pacientes menores que 18 anos')\n"
   ]
  },
  {
   "cell_type": "code",
   "execution_count": 27,
   "metadata": {
    "id": "PVrY_-qlC8-8"
   },
   "outputs": [
    {
     "name": "stdout",
     "output_type": "stream",
     "text": [
      "102 estabelecimentos aplicaram a vacina\n"
     ]
    }
   ],
   "source": [
    "# 5)\n",
    "estab = base['estabelecimento_valor'].nunique()\n",
    "print(f'{estab} estabelecimentos aplicaram a vacina')"
   ]
  },
  {
   "cell_type": "markdown",
   "metadata": {
    "id": "LH1LSYvGC8-8"
   },
   "source": [
    "## 4) Vacinação II\n",
    "Gere um *DataFrame* que contenha somente os estabelecimentos que aplicaram vcinas a menores de 18 anos. Nesse *DataFrame* devem conter somente os dados dos estabelecimentos, mais uma coluna sendo a quantidade de vacinas que o estabelecimento aplicou a menores de 18 anos.  \n",
    "  \n",
    "1. crie uma cópia do *DataFrame* original, contendo somente os registros de vacinas realizadas a menores de 18 anos.  \n",
    "2. crie uma lista das colunas desse *DataFrame* com o atributo de *DataFrame* **.columns()**  \n",
    "3. Nesse *DataFrame* faça uma contagem do campo ```vacina_categoria_nome```.\n",
    "3. a partir da lista de colunas, escolha somente aquelas que são referentes ao estabelecimento, faça uma lista com esses valores.  \n",
    "4. usando o método *.loc*, selecione somente essas variáveis  \n",
    "5. Aplique o método **.drop_duplicates** e crie uma lista com uma linha para cada estabelecimento, com os dados do estabelecimento  "
   ]
  },
  {
   "cell_type": "code",
   "execution_count": 32,
   "metadata": {
    "id": "3ojs12vUC8-8"
   },
   "outputs": [
    {
     "data": {
      "text/html": [
       "<div>\n",
       "<style scoped>\n",
       "    .dataframe tbody tr th:only-of-type {\n",
       "        vertical-align: middle;\n",
       "    }\n",
       "\n",
       "    .dataframe tbody tr th {\n",
       "        vertical-align: top;\n",
       "    }\n",
       "\n",
       "    .dataframe thead th {\n",
       "        text-align: right;\n",
       "    }\n",
       "</style>\n",
       "<table border=\"1\" class=\"dataframe\">\n",
       "  <thead>\n",
       "    <tr style=\"text-align: right;\">\n",
       "      <th></th>\n",
       "      <th>document_id</th>\n",
       "      <th>paciente_id</th>\n",
       "      <th>paciente_idade</th>\n",
       "      <th>paciente_datanascimento</th>\n",
       "      <th>paciente_enumsexobiologico</th>\n",
       "      <th>paciente_racacor_codigo</th>\n",
       "      <th>paciente_racacor_valor</th>\n",
       "      <th>paciente_endereco_coibgemunicipio</th>\n",
       "      <th>paciente_endereco_copais</th>\n",
       "      <th>paciente_endereco_nmmunicipio</th>\n",
       "      <th>...</th>\n",
       "      <th>vacina_lote</th>\n",
       "      <th>vacina_fabricante_nome</th>\n",
       "      <th>vacina_fabricante_referencia</th>\n",
       "      <th>vacina_dataaplicacao</th>\n",
       "      <th>vacina_descricao_dose</th>\n",
       "      <th>vacina_codigo</th>\n",
       "      <th>vacina_nome</th>\n",
       "      <th>sistema_origem</th>\n",
       "      <th>data_importacao_rnds</th>\n",
       "      <th>id_sistema_origem</th>\n",
       "    </tr>\n",
       "  </thead>\n",
       "  <tbody>\n",
       "    <tr>\n",
       "      <th>1567</th>\n",
       "      <td>fdca313f-b348-422d-94d4-f2c66a87868c-i0b0</td>\n",
       "      <td>f5e6b8c44f7c4d13a87c582def5e8d460435b02f26af8c...</td>\n",
       "      <td>17</td>\n",
       "      <td>2003-07-18</td>\n",
       "      <td>F</td>\n",
       "      <td>4</td>\n",
       "      <td>AMARELA</td>\n",
       "      <td>120025.0</td>\n",
       "      <td>10.0</td>\n",
       "      <td>EPITACIOLANDIA</td>\n",
       "      <td>...</td>\n",
       "      <td>213VCD003W</td>\n",
       "      <td>FUNDACAO OSWALDO CRUZ</td>\n",
       "      <td>Organization/33781055000135</td>\n",
       "      <td>2021-05-12</td>\n",
       "      <td>1ªDose</td>\n",
       "      <td>85</td>\n",
       "      <td>Vacina Covid-19 - Covishield</td>\n",
       "      <td>Novo PNI</td>\n",
       "      <td>2021-05-13T16:16:42.000Z</td>\n",
       "      <td>NaN</td>\n",
       "    </tr>\n",
       "    <tr>\n",
       "      <th>6250</th>\n",
       "      <td>b7431955-1faa-4c1e-9246-7c1e7b8bb3cb-i0b0</td>\n",
       "      <td>e1a45c07e3c393d5f0eccf4204a7ceab338f4f06696ecb...</td>\n",
       "      <td>16</td>\n",
       "      <td>2004-05-18</td>\n",
       "      <td>M</td>\n",
       "      <td>3</td>\n",
       "      <td>PARDA</td>\n",
       "      <td>120040.0</td>\n",
       "      <td>10.0</td>\n",
       "      <td>RIO BRANCO</td>\n",
       "      <td>...</td>\n",
       "      <td>200278</td>\n",
       "      <td>FUNDACAO BUTANTAN</td>\n",
       "      <td>Organization/61189445000156</td>\n",
       "      <td>2021-01-29</td>\n",
       "      <td>1ªDose</td>\n",
       "      <td>86</td>\n",
       "      <td>Covid-19-Coronavac-Sinovac/Butantan</td>\n",
       "      <td>Novo PNI</td>\n",
       "      <td>2021-02-06T14:02:07.000Z</td>\n",
       "      <td>NaN</td>\n",
       "    </tr>\n",
       "    <tr>\n",
       "      <th>9569</th>\n",
       "      <td>fdb8d3b6-14d9-4bcc-9cfe-acd46b4a317a-i0b0</td>\n",
       "      <td>7cf3b238383a70eeb26841c01817737c9706d5b231e8c2...</td>\n",
       "      <td>17</td>\n",
       "      <td>2004-01-23</td>\n",
       "      <td>F</td>\n",
       "      <td>99</td>\n",
       "      <td>SEM INFORMACAO</td>\n",
       "      <td>120020.0</td>\n",
       "      <td>10.0</td>\n",
       "      <td>CRUZEIRO DO SUL</td>\n",
       "      <td>...</td>\n",
       "      <td>213VCD042Z</td>\n",
       "      <td>FUNDACAO OSWALDO CRUZ</td>\n",
       "      <td>Organization/33781055000135</td>\n",
       "      <td>2021-05-15</td>\n",
       "      <td>1ªDose</td>\n",
       "      <td>85</td>\n",
       "      <td>Vacina Covid-19 - Covishield</td>\n",
       "      <td>Novo PNI</td>\n",
       "      <td>2021-05-18T03:17:02.000Z</td>\n",
       "      <td>NaN</td>\n",
       "    </tr>\n",
       "  </tbody>\n",
       "</table>\n",
       "<p>3 rows × 34 columns</p>\n",
       "</div>"
      ],
      "text/plain": [
       "                                    document_id  \\\n",
       "1567  fdca313f-b348-422d-94d4-f2c66a87868c-i0b0   \n",
       "6250  b7431955-1faa-4c1e-9246-7c1e7b8bb3cb-i0b0   \n",
       "9569  fdb8d3b6-14d9-4bcc-9cfe-acd46b4a317a-i0b0   \n",
       "\n",
       "                                            paciente_id  paciente_idade  \\\n",
       "1567  f5e6b8c44f7c4d13a87c582def5e8d460435b02f26af8c...              17   \n",
       "6250  e1a45c07e3c393d5f0eccf4204a7ceab338f4f06696ecb...              16   \n",
       "9569  7cf3b238383a70eeb26841c01817737c9706d5b231e8c2...              17   \n",
       "\n",
       "     paciente_datanascimento paciente_enumsexobiologico  \\\n",
       "1567              2003-07-18                          F   \n",
       "6250              2004-05-18                          M   \n",
       "9569              2004-01-23                          F   \n",
       "\n",
       "      paciente_racacor_codigo paciente_racacor_valor  \\\n",
       "1567                        4                AMARELA   \n",
       "6250                        3                  PARDA   \n",
       "9569                       99         SEM INFORMACAO   \n",
       "\n",
       "      paciente_endereco_coibgemunicipio  paciente_endereco_copais  \\\n",
       "1567                           120025.0                      10.0   \n",
       "6250                           120040.0                      10.0   \n",
       "9569                           120020.0                      10.0   \n",
       "\n",
       "     paciente_endereco_nmmunicipio  ... vacina_lote vacina_fabricante_nome  \\\n",
       "1567                EPITACIOLANDIA  ...  213VCD003W  FUNDACAO OSWALDO CRUZ   \n",
       "6250                    RIO BRANCO  ...      200278      FUNDACAO BUTANTAN   \n",
       "9569               CRUZEIRO DO SUL  ...  213VCD042Z  FUNDACAO OSWALDO CRUZ   \n",
       "\n",
       "      vacina_fabricante_referencia vacina_dataaplicacao  \\\n",
       "1567   Organization/33781055000135           2021-05-12   \n",
       "6250   Organization/61189445000156           2021-01-29   \n",
       "9569   Organization/33781055000135           2021-05-15   \n",
       "\n",
       "      vacina_descricao_dose vacina_codigo  \\\n",
       "1567                 1ªDose            85   \n",
       "6250                 1ªDose            86   \n",
       "9569                 1ªDose            85   \n",
       "\n",
       "                              vacina_nome  sistema_origem  \\\n",
       "1567         Vacina Covid-19 - Covishield        Novo PNI   \n",
       "6250  Covid-19-Coronavac-Sinovac/Butantan        Novo PNI   \n",
       "9569         Vacina Covid-19 - Covishield        Novo PNI   \n",
       "\n",
       "          data_importacao_rnds id_sistema_origem  \n",
       "1567  2021-05-13T16:16:42.000Z               NaN  \n",
       "6250  2021-02-06T14:02:07.000Z               NaN  \n",
       "9569  2021-05-18T03:17:02.000Z               NaN  \n",
       "\n",
       "[3 rows x 34 columns]"
      ]
     },
     "execution_count": 32,
     "metadata": {},
     "output_type": "execute_result"
    }
   ],
   "source": [
    "# 1)\n",
    "estab18Menos = base.loc[base['paciente_idade'] < 18]\n",
    "estab18Menos.head(3)"
   ]
  },
  {
   "cell_type": "code",
   "execution_count": 34,
   "metadata": {
    "id": "sLyevPRBC8-8"
   },
   "outputs": [
    {
     "data": {
      "text/plain": [
       "Index(['document_id', 'paciente_id', 'paciente_idade',\n",
       "       'paciente_datanascimento', 'paciente_enumsexobiologico',\n",
       "       'paciente_racacor_codigo', 'paciente_racacor_valor',\n",
       "       'paciente_endereco_coibgemunicipio', 'paciente_endereco_copais',\n",
       "       'paciente_endereco_nmmunicipio', 'paciente_endereco_nmpais',\n",
       "       'paciente_endereco_uf', 'paciente_endereco_cep',\n",
       "       'paciente_nacionalidade_enumnacionalidade', 'estabelecimento_valor',\n",
       "       'estabelecimento_razaosocial', 'estalecimento_nofantasia',\n",
       "       'estabelecimento_municipio_codigo', 'estabelecimento_municipio_nome',\n",
       "       'estabelecimento_uf', 'vacina_grupoatendimento_codigo',\n",
       "       'vacina_grupoatendimento_nome', 'vacina_categoria_codigo',\n",
       "       'vacina_categoria_nome', 'vacina_lote', 'vacina_fabricante_nome',\n",
       "       'vacina_fabricante_referencia', 'vacina_dataaplicacao',\n",
       "       'vacina_descricao_dose', 'vacina_codigo', 'vacina_nome',\n",
       "       'sistema_origem', 'data_importacao_rnds', 'id_sistema_origem'],\n",
       "      dtype='object')"
      ]
     },
     "execution_count": 34,
     "metadata": {},
     "output_type": "execute_result"
    }
   ],
   "source": [
    "# 2)\n",
    "colunas = base.columns\n",
    "colunas\n"
   ]
  },
  {
   "cell_type": "code",
   "execution_count": 37,
   "metadata": {
    "id": "lZAW-Dp8C8-8"
   },
   "outputs": [
    {
     "data": {
      "text/plain": [
       "vacina_categoria_nome\n",
       "Povos Indígenas                     33\n",
       "Trabalhadores de Saúde               9\n",
       "Povos e Comunidades Tradicionais     9\n",
       "Comorbidades                         2\n",
       "Faixa Etária                         1\n",
       "Name: count, dtype: int64"
      ]
     },
     "execution_count": 37,
     "metadata": {},
     "output_type": "execute_result"
    }
   ],
   "source": [
    "# 3)\n",
    "estab18Menos['vacina_categoria_nome'].value_counts()"
   ]
  },
  {
   "cell_type": "code",
   "execution_count": 49,
   "metadata": {
    "id": "xxYsxrxAC8-8"
   },
   "outputs": [],
   "source": [
    "# 4)\n",
    "#Lista com as colunas referentes ao estabelecimento\n",
    "dadosEstab = ['estabelecimento_valor','estabelecimento_razaosocial','estalecimento_nofantasia','estabelecimento_municipio_codigo',\n",
    "             'estabelecimento_municipio_nome','estabelecimento_uf']\n",
    "#Selecionar apenas as colunas que fazem parte da lista anterior\n",
    "estab18Menos_lista = estab18Menos.loc[:, dadosEstab]"
   ]
  },
  {
   "cell_type": "code",
   "execution_count": 52,
   "metadata": {
    "id": "vaX2x_0rC8-8"
   },
   "outputs": [
    {
     "data": {
      "text/plain": [
       "(18, 6)"
      ]
     },
     "execution_count": 52,
     "metadata": {},
     "output_type": "execute_result"
    }
   ],
   "source": [
    "# 5)\n",
    "estab18Menos_lista = estab18Menos_lista.drop_duplicates()\n",
    "estab18Menos_lista.shape"
   ]
  }
 ],
 "metadata": {
  "colab": {
   "provenance": []
  },
  "kernelspec": {
   "display_name": "Python 3 (ipykernel)",
   "language": "python",
   "name": "python3"
  },
  "language_info": {
   "codemirror_mode": {
    "name": "ipython",
    "version": 3
   },
   "file_extension": ".py",
   "mimetype": "text/x-python",
   "name": "python",
   "nbconvert_exporter": "python",
   "pygments_lexer": "ipython3",
   "version": "3.11.7"
  },
  "toc": {
   "base_numbering": 1,
   "nav_menu": {},
   "number_sections": false,
   "sideBar": true,
   "skip_h1_title": true,
   "title_cell": "Índice",
   "title_sidebar": "Conteúdo",
   "toc_cell": false,
   "toc_position": {},
   "toc_section_display": true,
   "toc_window_display": false
  },
  "varInspector": {
   "cols": {
    "lenName": 16,
    "lenType": 16,
    "lenVar": 40
   },
   "kernels_config": {
    "python": {
     "delete_cmd_postfix": "",
     "delete_cmd_prefix": "del ",
     "library": "var_list.py",
     "varRefreshCmd": "print(var_dic_list())"
    },
    "r": {
     "delete_cmd_postfix": ") ",
     "delete_cmd_prefix": "rm(",
     "library": "var_list.r",
     "varRefreshCmd": "cat(var_dic_list()) "
    }
   },
   "types_to_exclude": [
    "module",
    "function",
    "builtin_function_or_method",
    "instance",
    "_Feature"
   ],
   "window_display": false
  }
 },
 "nbformat": 4,
 "nbformat_minor": 4
}
